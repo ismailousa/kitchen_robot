{
 "cells": [
  {
   "cell_type": "code",
   "execution_count": 1,
   "metadata": {},
   "outputs": [
    {
     "data": {
      "text/plain": [
       "'/Users/isma/Documents/Portfolio/kitchen_robot'"
      ]
     },
     "execution_count": 1,
     "metadata": {},
     "output_type": "execute_result"
    }
   ],
   "source": [
    "import os\n",
    "os.chdir('../')\n",
    "%pwd"
   ]
  },
  {
   "cell_type": "code",
   "execution_count": 2,
   "metadata": {},
   "outputs": [],
   "source": [
    "from dataclasses import dataclass\n",
    "from pathlib import Path\n",
    "\n",
    "@dataclass(frozen=True)\n",
    "class PrepareModelConfig:\n",
    "    root_dir: Path\n",
    "    feature_size: int\n",
    "    target_size: int\n",
    "    base_model_path: Path"
   ]
  },
  {
   "cell_type": "code",
   "execution_count": 10,
   "metadata": {},
   "outputs": [],
   "source": [
    "from kitchen_robot.constants import *\n",
    "# from kitchen_robot.entity.config_entity import (\n",
    "#     PrepareDatasetConfig,\n",
    "# )\n",
    "from kitchen_robot.utils.common import read_yaml, create_directories\n",
    "\n",
    "\n",
    "class ConfigurationManager:\n",
    "    def __init__(\n",
    "        self, config_filepath=CONFIG_FILE_PATH, params_filepath=PARAMS_FILE_PATH\n",
    "    ):\n",
    "\n",
    "        print(config_filepath)\n",
    "\n",
    "        self.config = read_yaml(config_filepath)\n",
    "        self.params = read_yaml(params_filepath)\n",
    "\n",
    "        create_directories([self.config.artifacts_root])\n",
    "\n",
    "    def get_prepare_model_config(self) -> PrepareModelConfig:\n",
    "        config = self.config.prepare_model\n",
    "        create_directories([config.root_dir])\n",
    "\n",
    "        prepare_model_config = PrepareModelConfig(\n",
    "            root_dir=config.root_dir,\n",
    "            feature_size=config.feature_size,\n",
    "            target_size=config.target_size,\n",
    "            base_model_path=config.base_model_path,\n",
    "        )\n",
    "        print(prepare_model_config)\n",
    "\n",
    "        return prepare_model_config"
   ]
  },
  {
   "cell_type": "code",
   "execution_count": 11,
   "metadata": {},
   "outputs": [],
   "source": [
    "import torch\n",
    "import torch.nn as nn\n",
    "import torch.optim as optim\n",
    "\n",
    "class PredictionModel(nn.Module):\n",
    "    def __init__(self, feature_size : int, target_size : int):\n",
    "        super(PredictionModel, self).__init__()\n",
    "        self.fc1 = nn.Linear(feature_size, 32)\n",
    "        self.fc2 = nn.Linear(32, 16)\n",
    "        self.fc3 = nn.Linear(16, target_size)\n",
    "\n",
    "    def forward(self, x):\n",
    "        x = torch.relu(self.fc1(x))\n",
    "        x = torch.relu(self.fc2(x))\n",
    "        x = self.fc3(x)\n",
    "        return x"
   ]
  },
  {
   "cell_type": "code",
   "execution_count": 15,
   "metadata": {},
   "outputs": [],
   "source": [
    "class PrepareModel:\n",
    "    def __init__(self, config: PrepareModelConfig):\n",
    "        self.config = config\n",
    "        print(config)\n",
    "    \n",
    "    def generate_base_model(self):\n",
    "        self.model = PredictionModel(self.config.feature_size, self.config.target_size)\n",
    "        torch.save(self.model.state_dict(), self.config.base_model_path)"
   ]
  },
  {
   "cell_type": "code",
   "execution_count": 16,
   "metadata": {},
   "outputs": [
    {
     "name": "stdout",
     "output_type": "stream",
     "text": [
      "config/config.yaml\n",
      "[2024-02-27 23:08:41,088: INFO: common: created directory at: artifacts]\n",
      "[2024-02-27 23:08:41,089: INFO: common: created directory at: artifacts/prepare_model]\n",
      "PrepareModelConfig(root_dir='artifacts/prepare_model', feature_size=5, target_size=2, base_model_path='artifacts/prepare_model/base_model.pth')\n",
      "PrepareModelConfig(root_dir='artifacts/prepare_model', feature_size=5, target_size=2, base_model_path='artifacts/prepare_model/base_model.pth')\n",
      "PrepareModelConfig(root_dir='artifacts/prepare_model', feature_size=5, target_size=2, base_model_path='artifacts/prepare_model/base_model.pth')\n"
     ]
    }
   ],
   "source": [
    "config = ConfigurationManager()\n",
    "prepare_model_config = config.get_prepare_model_config()\n",
    "print(prepare_model_config)\n",
    "prepare_model = PrepareModel(prepare_model_config)\n",
    "prepare_model.generate_base_model()"
   ]
  },
  {
   "cell_type": "code",
   "execution_count": null,
   "metadata": {},
   "outputs": [],
   "source": []
  }
 ],
 "metadata": {
  "kernelspec": {
   "display_name": ".venv",
   "language": "python",
   "name": "python3"
  },
  "language_info": {
   "codemirror_mode": {
    "name": "ipython",
    "version": 3
   },
   "file_extension": ".py",
   "mimetype": "text/x-python",
   "name": "python",
   "nbconvert_exporter": "python",
   "pygments_lexer": "ipython3",
   "version": "3.9.0"
  }
 },
 "nbformat": 4,
 "nbformat_minor": 2
}
