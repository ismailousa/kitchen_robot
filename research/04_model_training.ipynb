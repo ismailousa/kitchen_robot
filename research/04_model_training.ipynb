{
 "cells": [
  {
   "cell_type": "code",
   "execution_count": 1,
   "metadata": {},
   "outputs": [
    {
     "data": {
      "text/plain": [
       "'/Users/isma/Documents/Portfolio/kitchen_robot'"
      ]
     },
     "execution_count": 1,
     "metadata": {},
     "output_type": "execute_result"
    }
   ],
   "source": [
    "import os\n",
    "os.chdir(\"../\")\n",
    "%pwd"
   ]
  },
  {
   "cell_type": "code",
   "execution_count": 4,
   "metadata": {},
   "outputs": [],
   "source": [
    "from dataclasses import dataclass\n",
    "from pathlib import Path\n",
    "\n",
    "@dataclass(frozen=True)\n",
    "class ModelTrainingConfig:\n",
    "    root_dir: Path\n",
    "    feature_size: int\n",
    "    target_size: int\n",
    "    batch_size: int\n",
    "    epochs: int\n",
    "    train_eval_dataset: Path\n",
    "    base_model_path: Path\n",
    "    updated_model_path: Path"
   ]
  },
  {
   "cell_type": "code",
   "execution_count": 5,
   "metadata": {},
   "outputs": [],
   "source": [
    "from kitchen_robot.constants import *\n",
    "# from kitchen_robot.entity.config_entity import (\n",
    "#     PrepareDatasetConfig,\n",
    "# )\n",
    "from kitchen_robot.utils.common import read_yaml, create_directories\n",
    "\n",
    "\n",
    "class ConfigurationManager:\n",
    "    def __init__(\n",
    "        self, config_filepath=CONFIG_FILE_PATH, params_filepath=PARAMS_FILE_PATH\n",
    "    ):\n",
    "\n",
    "        print(config_filepath)\n",
    "\n",
    "        self.config = read_yaml(config_filepath)\n",
    "        self.params = read_yaml(params_filepath)\n",
    "\n",
    "        create_directories([self.config.artifacts_root])\n",
    "\n",
    "    def get_model_training_config(self) -> ModelTrainingConfig:\n",
    "        config = self.config.model_training\n",
    "        create_directories([config.root_dir])\n",
    "\n",
    "        model_training_config = ModelTrainingConfig(\n",
    "            root_dir=config.root_dir,\n",
    "            feature_size=self.config.prepare_model.feature_size,\n",
    "            target_size=self.config.prepare_model.target_size,\n",
    "            batch_size=self.params.batch_size,\n",
    "            epochs=self.params.epochs,\n",
    "            train_eval_dataset=config.train_eval_dataset,\n",
    "            base_model_path=config.base_model_path,\n",
    "            updated_model_path=config.updated_model_path,\n",
    "        )\n",
    "\n",
    "        return model_training_config"
   ]
  },
  {
   "cell_type": "code",
   "execution_count": 7,
   "metadata": {},
   "outputs": [],
   "source": [
    "import torch\n",
    "from torch.utils.data import Subset, DataLoader, random_split\n",
    "from kitchen_robot.components.prepare_model import PredictionModel"
   ]
  },
  {
   "cell_type": "code",
   "execution_count": 13,
   "metadata": {},
   "outputs": [],
   "source": [
    "class ModelTraining:\n",
    "    def __init__(self, config: ModelTrainingConfig):\n",
    "        self.config = config\n",
    "\n",
    "    def get_base_model(self):\n",
    "        self.model = PredictionModel(self.config.feature_size, self.config.target_size)\n",
    "        self.model.load_state_dict(torch.load(self.config.base_model_path))\n",
    "\n",
    "    def train_valid_generator(self):\n",
    "        loaded_dataset = torch.load(self.config.train_eval_dataset)\n",
    "\n",
    "        train_size = int(0.9 * len(loaded_dataset))\n",
    "        eval_size = len(loaded_dataset) - train_size\n",
    "\n",
    "        train_dataset, eval_dataset = random_split(loaded_dataset, [train_size, eval_size])\n",
    "\n",
    "        self.train_loader = DataLoader(train_dataset, batch_size=self.config.batch_size, shuffle=True)\n",
    "        self.eval_loader = DataLoader(eval_dataset, batch_size=self.config.batch_size)\n",
    "\n",
    "    @staticmethod\n",
    "    def save_model(path, model):\n",
    "        torch.save(model.state_dict(), path)\n",
    "\n",
    "    def train(self):\n",
    "        criterion = torch.nn.MSELoss()\n",
    "        optimizer = torch.optim.Adam(self.model.parameters())\n",
    "\n",
    "        for epoch in range(self.config.epochs):\n",
    "            self.model.train()\n",
    "            running_loss = 0.0\n",
    "\n",
    "            for inputs, targets in self.train_loader:\n",
    "                optimizer.zero_grad()\n",
    "                outputs = self.model(inputs)\n",
    "                loss = criterion(outputs, targets)\n",
    "                loss.backward()\n",
    "                optimizer.step()\n",
    "                \n",
    "                running_loss += loss.item()\n",
    "\n",
    "            epoch_loss = running_loss / len(self.train_loader)\n",
    "            print(f\"Epoch {epoch+1}, Loss: {epoch_loss}\")\n",
    "\n",
    "        self.save_model(self.config.updated_model_path, self.model)\n",
    "        print(\"Training complete\")"
   ]
  },
  {
   "cell_type": "code",
   "execution_count": 14,
   "metadata": {},
   "outputs": [
    {
     "name": "stdout",
     "output_type": "stream",
     "text": [
      "config/config.yaml\n",
      "[2024-02-27 23:46:33,109: INFO: common: created directory at: artifacts]\n",
      "[2024-02-27 23:46:33,110: INFO: common: created directory at: artifacts/model_training]\n",
      "Epoch 1, Loss: 137237.20103346457\n",
      "Training complete\n"
     ]
    }
   ],
   "source": [
    "try:\n",
    "    config = ConfigurationManager()\n",
    "    training_config = config.get_model_training_config()\n",
    "    training = ModelTraining(config=training_config)\n",
    "    training.get_base_model()\n",
    "    training.train_valid_generator()\n",
    "    training.train()\n",
    "    \n",
    "except Exception as e:\n",
    "    raise e"
   ]
  },
  {
   "cell_type": "code",
   "execution_count": null,
   "metadata": {},
   "outputs": [],
   "source": []
  }
 ],
 "metadata": {
  "kernelspec": {
   "display_name": ".venv",
   "language": "python",
   "name": "python3"
  },
  "language_info": {
   "codemirror_mode": {
    "name": "ipython",
    "version": 3
   },
   "file_extension": ".py",
   "mimetype": "text/x-python",
   "name": "python",
   "nbconvert_exporter": "python",
   "pygments_lexer": "ipython3",
   "version": "3.9.0"
  }
 },
 "nbformat": 4,
 "nbformat_minor": 2
}
