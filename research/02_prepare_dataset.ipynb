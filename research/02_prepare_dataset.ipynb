{
 "cells": [
  {
   "cell_type": "code",
   "execution_count": null,
   "metadata": {},
   "outputs": [],
   "source": [
    "import os\n",
    "os.chdir('../')\n",
    "%pwd"
   ]
  },
  {
   "cell_type": "code",
   "execution_count": null,
   "metadata": {},
   "outputs": [],
   "source": [
    "from dataclasses import dataclass\n",
    "from pathlib import Path\n",
    "\n",
    "@dataclass(frozen=True)\n",
    "class PrepareDatasetConfig:\n",
    "    root_dir: Path\n",
    "    environment_data: Path\n",
    "    historical_data: Path\n",
    "    feedback_data: Path\n",
    "    train_eval_data: Path\n",
    "    test_data: Path\n",
    "    train_eval_dataset: Path\n",
    "    test_dataset: Path\n",
    "\n",
    "from kitchen_robot.constants import *\n",
    "# from kitchen_robot.entity.config_entity import (\n",
    "#     PrepareDatasetConfig,\n",
    "# )\n",
    "from kitchen_robot.utils.common import read_yaml, create_directories\n",
    "\n",
    "\n",
    "class ConfigurationManager:\n",
    "    def __init__(\n",
    "        self, config_filepath=CONFIG_FILE_PATH, params_filepath=PARAMS_FILE_PATH\n",
    "    ):\n",
    "\n",
    "        print(config_filepath)\n",
    "\n",
    "        self.config = read_yaml(config_filepath)\n",
    "        self.params = read_yaml(params_filepath)\n",
    "\n",
    "        create_directories([self.config.artifacts_root])\n",
    "\n",
    "    def get_prepare_dataset_config(self) -> PrepareDatasetConfig:\n",
    "        config = self.config.prepare_dataset\n",
    "        create_directories([config.root_dir])\n",
    "\n",
    "        prepare_dataset_config = PrepareDatasetConfig(\n",
    "            root_dir=config.root_dir,\n",
    "            environment_data=config.environment_data,\n",
    "            historical_data=config.historical_data,\n",
    "            feedback_data=config.feedback_data,\n",
    "            train_eval_data=config.train_eval_data,\n",
    "            test_data=config.test_data,\n",
    "            train_eval_dataset=config.train_eval_dataset,\n",
    "            test_dataset=config.test_dataset,\n",
    "        )\n",
    "\n",
    "        return prepare_dataset_config"
   ]
  },
  {
   "cell_type": "code",
   "execution_count": null,
   "metadata": {},
   "outputs": [],
   "source": [
    "from torch.utils.data import Dataset\n",
    "import torch\n",
    "\n",
    "class RecipeDataset(Dataset):\n",
    "    def __init__(self, data):\n",
    "        self.features = torch.tensor(data[['distinct_ingredients', 'humidity', 'temperature', 'taste_rating', 'texture_feedback','presentation_score']].values, dtype=torch.float32)\n",
    "        self.targets = torch.tensor(data[['ingredient_quantities','cooking_time']].values, dtype=torch.float32)\n",
    "        self.length = len(data)\n",
    "\n",
    "    def __len__(self):\n",
    "        return self.length\n",
    "\n",
    "    def __getitem__(self, idx):\n",
    "        return self.features[idx], self.targets[idx]"
   ]
  },
  {
   "cell_type": "code",
   "execution_count": null,
   "metadata": {},
   "outputs": [],
   "source": [
    "from kitchen_robot.utils.common import read_csv\n",
    "import pandas as pd\n",
    "from sklearn.model_selection import train_test_split"
   ]
  },
  {
   "cell_type": "code",
   "execution_count": null,
   "metadata": {},
   "outputs": [],
   "source": [
    "\n",
    "\n",
    "\n",
    "class PrepareDataset:\n",
    "    def __init__(self, config: PrepareDatasetConfig):\n",
    "        self.texture_mapping = {\"soft\": 1, \"medium\": 2, \"hard\": 3}\n",
    "        self.config = config\n",
    "\n",
    "    def get_features(self):\n",
    "        feedback_data = pd.read_csv(self.config.feedback_data)\n",
    "        environmental_data = pd.read_csv(self.config.environment_data)\n",
    "        historical_data = pd.read_csv(self.config.historical_data)\n",
    "\n",
    "        feedback_data['texture_feedback'] = feedback_data['texture_feedback'].map(self.texture_mapping)\n",
    "        feedback_data_avg = feedback_data.groupby('recipe_id').agg({'taste_rating': 'mean', 'texture_feedback': 'mean', 'presentation_score': 'mean'})\n",
    "        environmental_data_avg = environmental_data.groupby('recipe_id').agg({'humidity': 'mean', 'temperature': 'mean'})\n",
    "\n",
    "        historical_data = historical_data.merge(environmental_data_avg, on='recipe_id', how='left')\n",
    "        historical_data = historical_data.merge(feedback_data_avg, on='recipe_id', how='left')\n",
    "\n",
    "\n",
    "        train_eval_data, test_data = train_test_split(historical_data, test_size=0.1, shuffle=True, random_state=42)\n",
    "\n",
    "        # Save the train_eval_data and test_data to CSV files\n",
    "        train_eval_data.to_csv(self.config.train_eval_data, index=False)\n",
    "        test_data.to_csv(self.config.test_data, index=False)\n",
    "\n",
    "    def generate_dataset(self):\n",
    "        train_eval_data = pd.read_csv(self.config.train_eval_data)\n",
    "        test_data = pd.read_csv(self.config.test_data)\n",
    "\n",
    "        train_eval_dataset = RecipeDataset(train_eval_data)\n",
    "        test_dataset = RecipeDataset(test_data)\n",
    "\n",
    "        self._save_dataset(train_eval_dataset, self.config.train_eval_dataset)\n",
    "        self._save_dataset(test_dataset, self.config.test_dataset)\n",
    "        \n",
    "\n",
    "    def _save_dataset(self, dataset, dataset_path):\n",
    "        torch.save(dataset, dataset_path)"
   ]
  },
  {
   "cell_type": "code",
   "execution_count": null,
   "metadata": {},
   "outputs": [],
   "source": [
    "config = ConfigurationManager()\n",
    "prepare_dataset_config = config.get_prepare_dataset_config()\n",
    "data_ingestion = PrepareDataset(prepare_dataset_config)\n",
    "data_ingestion.get_features()\n",
    "data_ingestion.generate_dataset()"
   ]
  }
 ],
 "metadata": {
  "kernelspec": {
   "display_name": ".venv",
   "language": "python",
   "name": "python3"
  },
  "language_info": {
   "codemirror_mode": {
    "name": "ipython",
    "version": 3
   },
   "file_extension": ".py",
   "mimetype": "text/x-python",
   "name": "python",
   "nbconvert_exporter": "python",
   "pygments_lexer": "ipython3",
   "version": "3.9.0"
  }
 },
 "nbformat": 4,
 "nbformat_minor": 2
}
